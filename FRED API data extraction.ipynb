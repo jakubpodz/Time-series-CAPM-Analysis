{
 "cells": [
  {
   "cell_type": "code",
   "execution_count": 13,
   "metadata": {},
   "outputs": [],
   "source": [
    "import pandas as pd\n",
    "from fredapi import Fred"
   ]
  },
  {
   "cell_type": "code",
   "execution_count": 14,
   "metadata": {},
   "outputs": [],
   "source": [
    "fred_api_key = '...'\n",
    "fred = Fred(api_key=fred_api_key)"
   ]
  },
  {
   "cell_type": "code",
   "execution_count": 15,
   "metadata": {},
   "outputs": [],
   "source": [
    "bond_price = fred.get_series('DGS10', observation_start='2018-01-01', observation_end='2024-01-01' )\n",
    "btc_price = fred.get_series('CBBTCUSD', observation_start='2018-01-01', observation_end='2024-01-01')\n",
    "sp500_price = fred.get_series('SP500', observation_start='2018-01-01', observation_end='2024-01-01')\n",
    "\n",
    "\n"
   ]
  },
  {
   "cell_type": "code",
   "execution_count": 16,
   "metadata": {},
   "outputs": [
    {
     "data": {
      "text/plain": [
       "(2018-01-01     NaN\n",
       " 2018-01-02    2.46\n",
       " 2018-01-03    2.44\n",
       " 2018-01-04    2.46\n",
       " 2018-01-05    2.47\n",
       " dtype: float64,\n",
       " 2018-01-01    13480.01\n",
       " 2018-01-02    14781.51\n",
       " 2018-01-03    15098.14\n",
       " 2018-01-04    15144.99\n",
       " 2018-01-05    16960.01\n",
       " dtype: float64,\n",
       " 2018-01-01        NaN\n",
       " 2018-01-02    2695.81\n",
       " 2018-01-03    2713.06\n",
       " 2018-01-04    2723.99\n",
       " 2018-01-05    2743.15\n",
       " dtype: float64)"
      ]
     },
     "execution_count": 16,
     "metadata": {},
     "output_type": "execute_result"
    }
   ],
   "source": [
    "bond_price.head(), btc_price.head(), sp500_price.head()"
   ]
  },
  {
   "cell_type": "code",
   "execution_count": 17,
   "metadata": {},
   "outputs": [
    {
     "name": "stdout",
     "output_type": "stream",
     "text": [
      "<class 'pandas.core.frame.DataFrame'>\n",
      "DatetimeIndex: 2192 entries, 2018-01-01 to 2024-01-01\n",
      "Data columns (total 3 columns):\n",
      " #   Column         Non-Null Count  Dtype  \n",
      "---  ------         --------------  -----  \n",
      " 0   Bond Price     1500 non-null   float64\n",
      " 1   Bitcoin Price  2191 non-null   float64\n",
      " 2   S&P 500        1509 non-null   float64\n",
      "dtypes: float64(3)\n",
      "memory usage: 68.5 KB\n"
     ]
    },
    {
     "data": {
      "text/plain": [
       "(            Bond Price  Bitcoin Price  S&P 500\n",
       " Date                                          \n",
       " 2018-01-01         NaN       13480.01      NaN\n",
       " 2018-01-02        2.46       14781.51  2695.81\n",
       " 2018-01-03        2.44       15098.14  2713.06\n",
       " 2018-01-04        2.46       15144.99  2723.99\n",
       " 2018-01-05        2.47       16960.01  2743.15,\n",
       " None)"
      ]
     },
     "execution_count": 17,
     "metadata": {},
     "output_type": "execute_result"
    }
   ],
   "source": [
    "# Create a DataFrame combining the three time series\n",
    "FRED_DATA = pd.DataFrame({\n",
    "    'Bond Price': bond_price,\n",
    "    'Bitcoin Price': btc_price,\n",
    "    'S&P 500': sp500_price\n",
    "})\n",
    "\n",
    "# Reset the index to bring 'Date' as a column\n",
    "FRED_DATA = FRED_DATA.reset_index()\n",
    "\n",
    "# Convert the 'index' column (which contains dates) to a datetime format\n",
    "FRED_DATA['Date'] = pd.to_datetime(FRED_DATA['index'])\n",
    "\n",
    "# Drop the old 'index' column\n",
    "FRED_DATA.drop(columns=['index'], inplace=True)\n",
    "\n",
    "# Reorder the columns to move 'Date' to the first position\n",
    "cols = ['Date', 'Bond Price', 'Bitcoin Price', 'S&P 500']\n",
    "FRED_DATA = FRED_DATA[cols]\n",
    "\n",
    "# Set 'Date' as the index (required for resampling)\n",
    "FRED_DATA.set_index('Date', inplace=True)\n",
    "\n",
    "# Display the first few rows of the resampled DataFrame\n",
    "FRED_DATA.head(),  FRED_DATA.info()\n",
    "\n"
   ]
  },
  {
   "cell_type": "code",
   "execution_count": 18,
   "metadata": {},
   "outputs": [],
   "source": [
    "FRED_DATA.to_csv('btc_bond_sp500_data.csv', index = True) "
   ]
  }
 ],
 "metadata": {
  "kernelspec": {
   "display_name": "Python 3",
   "language": "python",
   "name": "python3"
  },
  "language_info": {
   "codemirror_mode": {
    "name": "ipython",
    "version": 3
   },
   "file_extension": ".py",
   "mimetype": "text/x-python",
   "name": "python",
   "nbconvert_exporter": "python",
   "pygments_lexer": "ipython3",
   "version": "3.11.5"
  }
 },
 "nbformat": 4,
 "nbformat_minor": 2
}
